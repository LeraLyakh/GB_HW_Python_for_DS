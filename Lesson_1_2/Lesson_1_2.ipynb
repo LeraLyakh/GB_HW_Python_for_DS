{
 "cells": [
  {
   "cell_type": "markdown",
   "id": "62ade73b",
   "metadata": {},
   "source": [
    "# Вычисления с помощью Numpy"
   ]
  },
  {
   "cell_type": "markdown",
   "id": "9a952f46",
   "metadata": {},
   "source": [
    "### Задание 1"
   ]
  },
  {
   "cell_type": "code",
   "execution_count": 8,
   "id": "aaac9d8d",
   "metadata": {},
   "outputs": [],
   "source": [
    "import numpy as np"
   ]
  },
  {
   "cell_type": "code",
   "execution_count": null,
   "id": "2e3db8ee",
   "metadata": {},
   "outputs": [],
   "source": []
  }
 ],
 "metadata": {
  "language_info": {
   "codemirror_mode": {
    "name": "ipython",
    "version": 3
   },
   "file_extension": ".py",
   "mimetype": "text/x-python",
   "name": "python",
   "nbconvert_exporter": "python",
   "pygments_lexer": "ipython3",
   "version": "3.8.8"
  }
 },
 "nbformat": 4,
 "nbformat_minor": 5
}
